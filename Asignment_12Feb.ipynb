{
 "cells": [
  {
   "cell_type": "code",
   "execution_count": 1,
   "id": "5987c7ed-63b1-450f-b3b9-cac5383ace77",
   "metadata": {},
   "outputs": [],
   "source": [
    "# Q1. What is the Exception in python? Write the difference between Exceptions and syntax errors.\n",
    "\n",
    "## Exception is an event that occurs during the execution of a program that disrupts the normal flow of instructions.\n",
    "## Exceptions can occur due to various reasons, such as invalid input, file I/O errors, network failures,\n",
    "## or logical errors in the program's code.\n",
    "## Syntax errors, on the other hand, occur when the Python interpreter encounters code that\n",
    "## violates the syntax rules of the language."
   ]
  },
  {
   "cell_type": "code",
   "execution_count": 3,
   "id": "2d4d86ef-df20-4a3d-831a-38ebe7bdf470",
   "metadata": {},
   "outputs": [
    {
     "ename": "ZeroDivisionError",
     "evalue": "division by zero",
     "output_type": "error",
     "traceback": [
      "\u001b[0;31m---------------------------------------------------------------------------\u001b[0m",
      "\u001b[0;31mZeroDivisionError\u001b[0m                         Traceback (most recent call last)",
      "Cell \u001b[0;32mIn[3], line 9\u001b[0m\n\u001b[1;32m      7\u001b[0m a \u001b[38;5;241m=\u001b[39m \u001b[38;5;241m5\u001b[39m\n\u001b[1;32m      8\u001b[0m b \u001b[38;5;241m=\u001b[39m \u001b[38;5;241m0\u001b[39m\n\u001b[0;32m----> 9\u001b[0m \u001b[38;5;28mprint\u001b[39m(\u001b[43ma\u001b[49m\u001b[38;5;241;43m/\u001b[39;49m\u001b[43mb\u001b[49m)\n\u001b[1;32m     10\u001b[0m \u001b[38;5;28mprint\u001b[39m(\u001b[38;5;124m\"\u001b[39m\u001b[38;5;124mThis line of code will not executed if exception is not handled\u001b[39m\u001b[38;5;124m\"\u001b[39m)\n",
      "\u001b[0;31mZeroDivisionError\u001b[0m: division by zero"
     ]
    }
   ],
   "source": [
    "# Q2. What happens when an exception is not handled? Explain with an example.\n",
    "\n",
    "## If the exception is not caught and handled at any level, the program will terminate abruptly,\n",
    "##and a traceback will be displayed, indicating the line of code where the exception occurred along\n",
    "##with the type of exception and its message.\n",
    "\n",
    "a = 5\n",
    "b = 0\n",
    "print(a/b)\n",
    "print(\"This line of code will not executed if exception is not handled\")"
   ]
  },
  {
   "cell_type": "code",
   "execution_count": 4,
   "id": "65c6cce5-1e58-4fea-a028-e9ad85a786c8",
   "metadata": {},
   "outputs": [],
   "source": [
    "# Q3. Which Python statements are used to catch and handle exceptions? Explain with an example.\n",
    "\n",
    "## try, except, else and finally are used to catch and handle exceptions.\n",
    "## try : This block of code catches the exceptions. Write any code which can give an error/exception in try block.\n",
    "## except : This block will handle exception if any exception will occur in try block.\n",
    "## else : This block will only excecute if no exception occur in try block.\n",
    "## finally : This block will excecute if any error occurs or not."
   ]
  },
  {
   "cell_type": "code",
   "execution_count": 9,
   "id": "86c045c0-7188-4472-8e82-2423b4d1dc5c",
   "metadata": {},
   "outputs": [
    {
     "name": "stdout",
     "output_type": "stream",
     "text": [
      "Division successful! Result: 3.0\n",
      "Execution of division operation completed.\n",
      "Invalid age input: Age cannot be negative.\n"
     ]
    }
   ],
   "source": [
    "# Q4. Explain with an example:\n",
    "# a try and else\n",
    "# b finally\n",
    "# c raise \n",
    "\n",
    "## try and else: try block attempts to perform division. If no exception occurs during this operation,\n",
    "## the else block is executed.\n",
    "## finally : The finally block is executed after the try block, regardless of whether an exception occurred or not.\n",
    "\n",
    "def divide(a, b):\n",
    "    try:\n",
    "        result = a / b\n",
    "    except ZeroDivisionError:\n",
    "        print(\"Error: Cannot divide by zero!\")\n",
    "    else:\n",
    "        print(\"Division successful! Result:\", result)\n",
    "    finally:\n",
    "        print(\"Execution of division operation completed.\")\n",
    "        \n",
    "divide(6, 2)\n",
    "\n",
    "## raise : raise is used to raise an exception built in or user defined.\n",
    "\n",
    "def validate_age(age):\n",
    "    if age < 0:\n",
    "        raise ValueError(\"Age cannot be negative.\")\n",
    "    elif age < 18:\n",
    "        raise ValueError(\"Must be 18 or older.\")\n",
    "    else:\n",
    "        print(\"Age is valid.\")\n",
    "        \n",
    "try:\n",
    "    validate_age(-5)\n",
    "except ValueError as e:\n",
    "    print(\"Invalid age input:\", e)"
   ]
  },
  {
   "cell_type": "code",
   "execution_count": 10,
   "id": "106b5c05-c7c1-418a-97f8-930c40551fd0",
   "metadata": {},
   "outputs": [
    {
     "name": "stdout",
     "output_type": "stream",
     "text": [
      "Error occurred during withdrawal: Insufficient funds for withdrawal.\n"
     ]
    }
   ],
   "source": [
    "# Q5. What are Custom Exceptions in python? Why do we need Custom Exceptions? Expain with an example.\n",
    "\n",
    "## Custom exceptions in Python are user-defined exception classes that inherit from Python's built-in Exception \n",
    "## class or any of its subclasses. These exceptions are created to represent specific error\n",
    "## conditions or exceptional situations that may occur in their code.\n",
    "\n",
    "class WithdrawalError(Exception):\n",
    "    pass\n",
    "\n",
    "class BankAccount:\n",
    "    def __init__(self, balance):\n",
    "        self.balance = balance\n",
    "\n",
    "    def withdraw(self, amount):\n",
    "        if amount <= 0:\n",
    "            raise ValueError(\"Withdrawal amount must be positive.\")\n",
    "        if amount > self.balance:\n",
    "            raise WithdrawalError(\"Insufficient funds for withdrawal.\")\n",
    "        self.balance -= amount\n",
    "        return self.balance\n",
    "\n",
    "    \n",
    "account_balance = 1000\n",
    "account = BankAccount(account_balance)\n",
    "\n",
    "try:\n",
    "    withdrawal_amount = 1500\n",
    "    new_balance = account.withdraw(withdrawal_amount)\n",
    "except WithdrawalError as e:\n",
    "    print(\"Error occurred during withdrawal:\", e)\n",
    "else:\n",
    "    print(\"Withdrawal successful! New balance:\", new_balance)"
   ]
  },
  {
   "cell_type": "code",
   "execution_count": 11,
   "id": "6c06443f-55fa-43e2-9ae6-1b2805ddd346",
   "metadata": {},
   "outputs": [
    {
     "name": "stdout",
     "output_type": "stream",
     "text": [
      "Invalid age input: Age cannot be negative.\n"
     ]
    }
   ],
   "source": [
    "# Q6. Create a custom exception class. Use this class to handle an exception.\n",
    "\n",
    "class InvalidInputError(Exception):\n",
    "    pass\n",
    "\n",
    "def validate_age(age):\n",
    "    if age < 0:\n",
    "        raise InvalidInputError(\"Age cannot be negative.\")\n",
    "    else:\n",
    "        print(\"Age is valid.\")\n",
    "\n",
    "try:\n",
    "    age = -5\n",
    "    validate_age(age)\n",
    "except InvalidInputError as e:\n",
    "    print(\"Invalid age input:\", e)"
   ]
  },
  {
   "cell_type": "code",
   "execution_count": null,
   "id": "1ce78e9d-a8b3-4084-9679-a3c1233b69f0",
   "metadata": {},
   "outputs": [],
   "source": []
  },
  {
   "cell_type": "code",
   "execution_count": null,
   "id": "5501d3fa-6550-41eb-a3fa-c68528646d2a",
   "metadata": {},
   "outputs": [],
   "source": []
  }
 ],
 "metadata": {
  "kernelspec": {
   "display_name": "Python 3 (ipykernel)",
   "language": "python",
   "name": "python3"
  },
  "language_info": {
   "codemirror_mode": {
    "name": "ipython",
    "version": 3
   },
   "file_extension": ".py",
   "mimetype": "text/x-python",
   "name": "python",
   "nbconvert_exporter": "python",
   "pygments_lexer": "ipython3",
   "version": "3.10.8"
  }
 },
 "nbformat": 4,
 "nbformat_minor": 5
}
